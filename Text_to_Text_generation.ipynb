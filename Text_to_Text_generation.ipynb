{
 "cells": [
  {
   "cell_type": "code",
   "execution_count": 2,
   "id": "41d6d733",
   "metadata": {},
   "outputs": [
    {
     "name": "stdout",
     "output_type": "stream",
     "text": [
      "Note: you may need to restart the kernel to use updated packages.\n"
     ]
    }
   ],
   "source": [
    "%pip install -q -U google-generativeai"
   ]
  },
  {
   "cell_type": "code",
   "execution_count": null,
   "id": "7c00af2c",
   "metadata": {},
   "outputs": [],
   "source": [
    "%pip install "
   ]
  },
  {
   "cell_type": "code",
   "execution_count": 1,
   "id": "efa560d1",
   "metadata": {},
   "outputs": [
    {
     "name": "stdout",
     "output_type": "stream",
     "text": [
      "Requirement already satisfied: google-generativeai in c:\\users\\visha\\appdata\\local\\programs\\python\\python313\\lib\\site-packages (0.8.5)\n",
      "Requirement already satisfied: google-ai-generativelanguage==0.6.15 in c:\\users\\visha\\appdata\\local\\programs\\python\\python313\\lib\\site-packages (from google-generativeai) (0.6.15)\n",
      "Requirement already satisfied: google-api-core in c:\\users\\visha\\appdata\\local\\programs\\python\\python313\\lib\\site-packages (from google-generativeai) (2.24.2)\n",
      "Requirement already satisfied: google-api-python-client in c:\\users\\visha\\appdata\\local\\programs\\python\\python313\\lib\\site-packages (from google-generativeai) (2.167.0)\n",
      "Requirement already satisfied: google-auth>=2.15.0 in c:\\users\\visha\\appdata\\local\\programs\\python\\python313\\lib\\site-packages (from google-generativeai) (2.39.0)\n",
      "Requirement already satisfied: protobuf in c:\\users\\visha\\appdata\\local\\programs\\python\\python313\\lib\\site-packages (from google-generativeai) (5.29.4)\n",
      "Requirement already satisfied: pydantic in c:\\users\\visha\\appdata\\local\\programs\\python\\python313\\lib\\site-packages (from google-generativeai) (2.11.1)\n",
      "Requirement already satisfied: tqdm in c:\\users\\visha\\appdata\\local\\programs\\python\\python313\\lib\\site-packages (from google-generativeai) (4.67.1)\n",
      "Requirement already satisfied: typing-extensions in c:\\users\\visha\\appdata\\local\\programs\\python\\python313\\lib\\site-packages (from google-generativeai) (4.13.0)\n",
      "Requirement already satisfied: proto-plus<2.0.0dev,>=1.22.3 in c:\\users\\visha\\appdata\\local\\programs\\python\\python313\\lib\\site-packages (from google-ai-generativelanguage==0.6.15->google-generativeai) (1.26.1)\n",
      "Requirement already satisfied: googleapis-common-protos<2.0.0,>=1.56.2 in c:\\users\\visha\\appdata\\local\\programs\\python\\python313\\lib\\site-packages (from google-api-core->google-generativeai) (1.70.0)\n",
      "Requirement already satisfied: requests<3.0.0,>=2.18.0 in c:\\users\\visha\\appdata\\local\\programs\\python\\python313\\lib\\site-packages (from google-api-core->google-generativeai) (2.32.3)\n",
      "Requirement already satisfied: cachetools<6.0,>=2.0.0 in c:\\users\\visha\\appdata\\local\\programs\\python\\python313\\lib\\site-packages (from google-auth>=2.15.0->google-generativeai) (5.5.2)\n",
      "Requirement already satisfied: pyasn1-modules>=0.2.1 in c:\\users\\visha\\appdata\\local\\programs\\python\\python313\\lib\\site-packages (from google-auth>=2.15.0->google-generativeai) (0.4.2)\n",
      "Requirement already satisfied: rsa<5,>=3.1.4 in c:\\users\\visha\\appdata\\local\\programs\\python\\python313\\lib\\site-packages (from google-auth>=2.15.0->google-generativeai) (4.9.1)\n",
      "Requirement already satisfied: httplib2<1.0.0,>=0.19.0 in c:\\users\\visha\\appdata\\local\\programs\\python\\python313\\lib\\site-packages (from google-api-python-client->google-generativeai) (0.22.0)\n",
      "Requirement already satisfied: google-auth-httplib2<1.0.0,>=0.2.0 in c:\\users\\visha\\appdata\\local\\programs\\python\\python313\\lib\\site-packages (from google-api-python-client->google-generativeai) (0.2.0)\n",
      "Requirement already satisfied: uritemplate<5,>=3.0.1 in c:\\users\\visha\\appdata\\local\\programs\\python\\python313\\lib\\site-packages (from google-api-python-client->google-generativeai) (4.1.1)\n",
      "Requirement already satisfied: annotated-types>=0.6.0 in c:\\users\\visha\\appdata\\local\\programs\\python\\python313\\lib\\site-packages (from pydantic->google-generativeai) (0.7.0)\n",
      "Requirement already satisfied: pydantic-core==2.33.0 in c:\\users\\visha\\appdata\\local\\programs\\python\\python313\\lib\\site-packages (from pydantic->google-generativeai) (2.33.0)\n",
      "Requirement already satisfied: typing-inspection>=0.4.0 in c:\\users\\visha\\appdata\\local\\programs\\python\\python313\\lib\\site-packages (from pydantic->google-generativeai) (0.4.0)\n",
      "Requirement already satisfied: colorama in c:\\users\\visha\\appdata\\roaming\\python\\python313\\site-packages (from tqdm->google-generativeai) (0.4.6)\n",
      "Requirement already satisfied: grpcio<2.0dev,>=1.33.2 in c:\\users\\visha\\appdata\\local\\programs\\python\\python313\\lib\\site-packages (from google-api-core[grpc]!=2.0.*,!=2.1.*,!=2.10.*,!=2.2.*,!=2.3.*,!=2.4.*,!=2.5.*,!=2.6.*,!=2.7.*,!=2.8.*,!=2.9.*,<3.0.0dev,>=1.34.1->google-ai-generativelanguage==0.6.15->google-generativeai) (1.72.0rc1)\n",
      "Requirement already satisfied: grpcio-status<2.0.dev0,>=1.33.2 in c:\\users\\visha\\appdata\\local\\programs\\python\\python313\\lib\\site-packages (from google-api-core[grpc]!=2.0.*,!=2.1.*,!=2.10.*,!=2.2.*,!=2.3.*,!=2.4.*,!=2.5.*,!=2.6.*,!=2.7.*,!=2.8.*,!=2.9.*,<3.0.0dev,>=1.34.1->google-ai-generativelanguage==0.6.15->google-generativeai) (1.71.0)\n",
      "Requirement already satisfied: pyparsing!=3.0.0,!=3.0.1,!=3.0.2,!=3.0.3,<4,>=2.4.2 in c:\\users\\visha\\appdata\\local\\programs\\python\\python313\\lib\\site-packages (from httplib2<1.0.0,>=0.19.0->google-api-python-client->google-generativeai) (3.2.3)\n",
      "Requirement already satisfied: pyasn1<0.7.0,>=0.6.1 in c:\\users\\visha\\appdata\\local\\programs\\python\\python313\\lib\\site-packages (from pyasn1-modules>=0.2.1->google-auth>=2.15.0->google-generativeai) (0.6.1)\n",
      "Requirement already satisfied: charset-normalizer<4,>=2 in c:\\users\\visha\\appdata\\local\\programs\\python\\python313\\lib\\site-packages (from requests<3.0.0,>=2.18.0->google-api-core->google-generativeai) (3.4.1)\n",
      "Requirement already satisfied: idna<4,>=2.5 in c:\\users\\visha\\appdata\\local\\programs\\python\\python313\\lib\\site-packages (from requests<3.0.0,>=2.18.0->google-api-core->google-generativeai) (3.10)\n",
      "Requirement already satisfied: urllib3<3,>=1.21.1 in c:\\users\\visha\\appdata\\local\\programs\\python\\python313\\lib\\site-packages (from requests<3.0.0,>=2.18.0->google-api-core->google-generativeai) (2.3.0)\n",
      "Requirement already satisfied: certifi>=2017.4.17 in c:\\users\\visha\\appdata\\local\\programs\\python\\python313\\lib\\site-packages (from requests<3.0.0,>=2.18.0->google-api-core->google-generativeai) (2025.1.31)\n",
      "Note: you may need to restart the kernel to use updated packages.\n"
     ]
    }
   ],
   "source": [
    "%pip install google-generativeai\n"
   ]
  },
  {
   "cell_type": "code",
   "execution_count": null,
   "id": "17b60977",
   "metadata": {},
   "outputs": [
    {
     "name": "stdout",
     "output_type": "stream",
     "text": [
      "Okay, imagine you're talking to a really smart friend who knows a lot about everything.\n",
      "\n",
      "When you have a conversation with this friend, you both remember what you've *just* been talking about, right? This helps you understand the next things you say.\n",
      "\n",
      "Now, think of the AI (like me!) as that smart friend.\n",
      "\n",
      "*   **Context:** When you chat with an AI, the AI needs to remember what you've already said in *this specific conversation*. This memory of the current chat is called the \"context.\" It's like the AI's short-term memory just for you. It helps the AI understand your questions and give relevant answers based on what you've *already* discussed.\n",
      "\n",
      "*   **Protocol:** But here's the tricky part. This \"context\" or memory isn't infinite. The AI can't remember *every single word* you've ever said in a chat if it goes on for days and days. There are limits to how much information the AI can hold in its 'head' for one conversation at a time. The \"protocol\" is the *system* or *rules* that manage this memory.\n",
      "\n",
      "**Think of it like this:**\n",
      "\n",
      "Imagine the AI has a special whiteboard just for your chat.\n",
      "*   Every time you say something, it writes it on the whiteboard.\n",
      "*   Every time the AI replies, it writes that too.\n",
      "*   The whiteboard is the **Context**. It's everything you've both said recently.\n",
      "*   But the whiteboard only has a limited amount of space. That limit is part of the **Protocol**.\n",
      "\n",
      "**What happens because of the Protocol?**\n",
      "\n",
      "When the whiteboard gets full (because your chat is getting very long), the AI has to make space for new things. So, it starts erasing the *oldest* stuff on the whiteboard to make room for what you're saying *now*.\n",
      "\n",
      "This is the \"model context protocol\" in action. It means:\n",
      "\n",
      "1.  The AI focuses on and remembers the most **recent** parts of your conversation very well.\n",
      "2.  If the chat gets really, really long, the AI might start to forget things you discussed much earlier in that *same* chat because they've been \"erased\" from its active memory (the whiteboard).\n",
      "\n",
      "**Why do they do this?**\n",
      "\n",
      "Because remembering *everything* you've ever said in a chat takes up a huge amount of computer power and memory, and it can get very expensive and slow. The protocol is a way to keep the conversation running smoothly and efficiently by focusing on what's most likely important: the recent stuff.\n",
      "\n",
      "So, the **model context protocol** is simply the system that manages the AI's short-term memory (the context) for your current conversation, setting limits on how much it can remember at once to keep things working well. If you have a very long chat and the AI seems to forget something you mentioned early on, it's probably because that older information fell outside its active context window due to the protocol!\n"
     ]
    }
   ],
   "source": [
    "import google.generativeai as genai\n",
    "\n",
    "genai.configure(api_key = \"Enter Your API key\")\n",
    "\n",
    "#model = genai.GenerativeModel(\"gemini-2.5-flash-preview-04-17\")\n",
    "#model = genai.GenerativeModel(\"gemini-2.0-flash\")\n",
    "model = genai.GenerativeModel(\"gemini-2.5-flash-preview-04-17\")\n",
    "response = model.generate_content(\"what is model context protocol can you explain to school student\")\n",
    "print(response.text)\n"
   ]
  },
  {
   "cell_type": "code",
   "execution_count": null,
   "id": "0d62396a",
   "metadata": {},
   "outputs": [],
   "source": []
  },
  {
   "cell_type": "code",
   "execution_count": null,
   "id": "9db1f076",
   "metadata": {},
   "outputs": [],
   "source": []
  },
  {
   "cell_type": "code",
   "execution_count": null,
   "id": "7946c5a9",
   "metadata": {},
   "outputs": [],
   "source": []
  },
  {
   "cell_type": "code",
   "execution_count": null,
   "id": "6182a119",
   "metadata": {},
   "outputs": [],
   "source": []
  },
  {
   "cell_type": "code",
   "execution_count": null,
   "id": "e288dd28",
   "metadata": {},
   "outputs": [],
   "source": []
  },
  {
   "cell_type": "code",
   "execution_count": null,
   "id": "df0ccdef",
   "metadata": {},
   "outputs": [],
   "source": []
  },
  {
   "cell_type": "code",
   "execution_count": null,
   "id": "47b5b413",
   "metadata": {},
   "outputs": [],
   "source": []
  }
 ],
 "metadata": {
  "kernelspec": {
   "display_name": "Python 3 (ipykernel)",
   "language": "python",
   "name": "python3"
  },
  "language_info": {
   "codemirror_mode": {
    "name": "ipython",
    "version": 3
   },
   "file_extension": ".py",
   "mimetype": "text/x-python",
   "name": "python",
   "nbconvert_exporter": "python",
   "pygments_lexer": "ipython3",
   "version": "3.12.7"
  }
 },
 "nbformat": 4,
 "nbformat_minor": 5
}
